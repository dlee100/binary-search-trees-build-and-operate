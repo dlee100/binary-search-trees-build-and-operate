{
 "cells": [
  {
   "cell_type": "markdown",
   "metadata": {},
   "source": [
    "## IT309 - Binary Search Tree (BST) Code to be posted for student review and assignment completion"
   ]
  },
  {
   "cell_type": "markdown",
   "metadata": {},
   "source": [
    "### Binary Search Tree Code Posted to Blackboard for review and use in Assignment #5.  \n",
    "### Fill in the code for the 'delete' method (starts around line 133).   "
   ]
  },
  {
   "cell_type": "code",
   "execution_count": 1,
   "metadata": {},
   "outputs": [],
   "source": [
    "class BinarySearchTree():      # BST\n",
    "    \"\"\"Simplified linked representation of a binary tree structure - only the essentials included.\"\"\"\n",
    "\n",
    "  #-------------------------- nested Node class --------------------------\n",
    "    class Node:\n",
    "        \"\"\"Lightweight, nonpublic class for storing a node.\"\"\"\n",
    "        def __init__(self, element, parent=None, left=None, right=None):\n",
    "            self.element = element #data or key\n",
    "            self.parent = parent #pointer or None\n",
    "            self.left = left #point to the left child node or None\n",
    "            self.right = right #point to the right child node or None\n",
    "\n",
    " \n",
    "  #-------------------------- SLBT constructor --------------------------\n",
    "    def __init__(self):\n",
    "        \"\"\"Create an initially empty binary tree.\"\"\"\n",
    "        self.root = None #initially tree root is None by default (tree empty)\n",
    "        self.size = 0\n",
    "\n",
    "  #-------------------------- accessors --------------------------\n",
    "    def __len__(self):\n",
    "        \"\"\"Return the total number of elements in the tree.\"\"\"\n",
    "        return self.size\n",
    "  \n",
    "    def root(self):\n",
    "        \"\"\"Return the root Position of the tree (or None if tree is empty).\"\"\"\n",
    "        return self.root\n",
    "\n",
    "    def parent(self, p):\n",
    "        \"\"\"Return the Position of p's parent (or None if p is root).\"\"\"\n",
    "        return p.parent\n",
    "\n",
    "    def left(self, p):\n",
    "        \"\"\"Return the Position of p's left child (or None if no left child).\"\"\"\n",
    "        return p.left\n",
    "\n",
    "    def right(self, p):\n",
    "        \"\"\"Return the Position of p's right child (or None if no right child).\"\"\"\n",
    "        return p.right\n",
    "\n",
    "    def element(self, p):\n",
    "        return p.element\n",
    "\n",
    "    def is_root(self, p):\n",
    "        if p.parent is None:\n",
    "            return True\n",
    "        return False\n",
    "\n",
    "    def is_leaf (self, p):\n",
    "        if p.left is None and p.right is None:\n",
    "            return True\n",
    "        return False\n",
    "\n",
    "    def num_children(self, p):\n",
    "        \"\"\"Return the number of children of Position p.\"\"\"\n",
    "        count = 0\n",
    "        if p.left is not None:     # left child exists\n",
    "            count += 1\n",
    "        if p.right is not None:    # right child exists\n",
    "            count += 1\n",
    "        return count\n",
    "\n",
    "    def depth(self, p):\n",
    "        \"\"\"Return the number of levels separating Position p from the root.\"\"\"\n",
    "        if self.is_root(p):\n",
    "            return 0\n",
    "        else:\n",
    "            return 1 + self.depth(p.parent)\n",
    "\n",
    "  #-------------------------- mutators --------------------------\n",
    "    def add_root(self, e):\n",
    "        \"\"\"Place element e at the root of an empty tree and return new Position.\n",
    "           Raise ValueError if tree nonempty.\n",
    "        \"\"\"\n",
    "        if self.root is not None:\n",
    "            raise ValueError('Root exists')\n",
    "        self.size = 1\n",
    "        self.root = self.Node(e)\n",
    "        return self.root\n",
    "\n",
    "    def add_left(self, p, e):\n",
    "        \"\"\"Create a new left child for Position p, storing element e.\n",
    "           Return the Position of new node.\n",
    "           Raise ValueError if Position p is invalid or p already has a left child.\n",
    "        \"\"\"\n",
    "        if p.left is not None:\n",
    "            raise ValueError('Left child exists')\n",
    "        self.size += 1\n",
    "        p.left = self.Node(e, parent = p)            # p is the parent\n",
    "        return p.left\n",
    "\n",
    "    def add_right(self, p, e):\n",
    "        \"\"\"Create a new right child for Position p, storing element e.\n",
    "           Return the Position of new node.\n",
    "           Raise ValueError if Position p is invalid or p already has a right child.\n",
    "        \"\"\"\n",
    "        if p.right is not None:\n",
    "            raise ValueError('Right child exists')\n",
    "        self.size += 1\n",
    "        p.right = self.Node(e, parent = p)          # node is its parent\n",
    "        return p.right\n",
    "\n",
    "    def replace(self, p, e):\n",
    "        \"\"\"Replace the element at position p with e, and return old element.\"\"\"\n",
    "        old = p.element\n",
    "        p.element = e\n",
    "        return old\n",
    "\n",
    "  #------------------------------- BST utilities -------------------------------\n",
    "    def subtree_search(self, p, k):\n",
    "        \"\"\"Return Position of p's subtree having key k, or last node searched.\n",
    "           Also return True if the key is found in the Tree, otherwise False.  \"\"\"\n",
    "        if k == p.element:                                 # found match - return position+True\n",
    "            return p, True                                         \n",
    "        elif k < p.element:                                # search left subtree\n",
    "            if self.left(p) is not None:\n",
    "                return self.subtree_search(self.left(p), k)   \n",
    "        else:                                              # search right subtree\n",
    "            if self.right(p) is not None:\n",
    "                return self.subtree_search(self.right(p), k)\n",
    "        return p, False          # signal 'not found' to the caller: position+False\n",
    "\n",
    "    def insert (self, k):\n",
    "        \"\"\" Insert a node with value 'k' into the correct spot in the tree. \"\"\"\n",
    "        addHere, found = self.subtree_search(self.root, k)\n",
    "        if found:\n",
    "            raise AlreadyInBST ('Element is already in the tree')  # key value already in the Tree\n",
    "        elif k < addHere.element:\n",
    "            self.add_left(addHere, k)\n",
    "        else:\n",
    "            self.add_right(addHere, k)\n",
    "\n",
    "  #---------------------------------------------------------------------------------------------- \n",
    "  # Note: You are to provide code for this method - the code to find the node is provided as\n",
    "  #       well as Docstring comments laying out the cases to be coded. \n",
    "  #       Hint: use the find_min function to find the min. element in the right subtree. \n",
    "  #       Be sure to adjust the tree size after a successful deletion.\n",
    "  #----------------------------------------------------------------------------------------------\n",
    "    def delete (self, k):\n",
    "        \"\"\" Delete a node with value 'k' if it is in the tree. Raise NotInBST if elt. not in tree. \"\"\"    \n",
    "        deleteThis, found = self.subtree_search(self.root, k)   # Find node to be deleted\n",
    "\n",
    "      # Cases: (1) element to be deleted is not in the tree, raise exception +\n",
    "      #        (2) element has no children, just set it's parent's pointer to None (if e is leaf)\n",
    "      #        (3) element has one child: reset parent of 'k' to point to child \n",
    "      #        (4) element has two children: harder case         \n",
    "        \n",
    "      # \"The matter is to manipulate the POINTERS correctly.\"\n",
    "    \n",
    "        if not found:\n",
    "            raise NotInBST ('Element is not in the tree')\n",
    "        # if element to be deleted is found\n",
    "        else: \n",
    "            # if k (element to be deleted) has no parent node\n",
    "            if self.is_root == True:  \n",
    "                # delete node\n",
    "                deleteThis.replace(k, k.right) # k's right child becomes new root\n",
    "                # move elements up\n",
    "                # </> ?\n",
    "            # if k is not root    \n",
    "            else: \n",
    "                # if k has no children\n",
    "                if self.is_leaf == True: \n",
    "                    # setting parent of k's child pointer to None\n",
    "                    # -- self.parent.replace(k, None) \n",
    "                    # delete node\n",
    "                    deleteThis.replace(k, None)\n",
    "                # if not leaf\n",
    "                else: \n",
    "                    # if k (element to be deleted) has one child\n",
    "                    if self.num_children == 1: \n",
    "                        # reset parent node of k to point to k's child as its child\n",
    "                        # </> ?\n",
    "                        # delete node\n",
    "                        deleteThis.replace(k, k.left or k.right)\n",
    "                    # if k (element to be deleted) has two children\n",
    "                    elif self.num_children == 2: \n",
    "                        # set k's left child as child of k's parent node. set k's right child as child of left node.\n",
    "                        # </> ?\n",
    "                        deleteThis.replace(k, k.left)\n",
    "                        # </>\n",
    "            # if deleted node had no parent node, set parent's pointer to None\n",
    "            # if deleted node had one child, reset parent node of deleted node to point to child\n",
    "            # if deleted node had two children, one sibling becomes a parent?\n",
    "      \n",
    "        \n",
    "    def find_min(self, p):\n",
    "        \"\"\"Return key with minimum key (or None if empty).\"\"\"\n",
    "        if len(self) == 0:\n",
    "            return None\n",
    "        while p.left is not None:\n",
    "            p = p.left\n",
    "        return p, p.element\n",
    "\n",
    "    def find_max(self, p):\n",
    "        \"\"\"Return key with minimum key (or None if empty).\"\"\"\n",
    "        if len(self) == 0:\n",
    "            return None\n",
    "        while p.right is not None:\n",
    "            p = p.right\n",
    "        return p, p.element\n",
    "\n",
    "\n",
    "# BST Traversals --------------------------------------------------------- \n",
    "            \n",
    "#-----------------------------------------------------------------\n",
    "# inorder algorithm (recursive):\n",
    "#    if tree node is not empty:\n",
    "#        if the node has a left child call preorder on that node\n",
    "#        print the node's element\n",
    "#        if the node has a right child call preorder on that node\n",
    "#----------------------------------------------------------------\n",
    "    def inorder (self, pos):\n",
    "        \"\"\" Perform an inorder traversal of the current tree - print the elements. \"\"\"\n",
    "        if pos is not None:\n",
    "            if self.left(pos) is not None:    \n",
    "                self.inorder (self.left(pos))\n",
    "            print(self.element(pos))\n",
    "            if self.right(pos) is not None:\n",
    "                self.inorder (self.right(pos))            \n",
    "\n",
    "class AlreadyInBST (Exception):\n",
    "    pass\n",
    "\n",
    "class NotInBST (Exception):\n",
    "    pass\n"
   ]
  },
  {
   "cell_type": "markdown",
   "metadata": {},
   "source": [
    "### Instantiate a BST class object, then build a small tree"
   ]
  },
  {
   "cell_type": "code",
   "execution_count": null,
   "metadata": {},
   "outputs": [],
   "source": [
    "A5trans = (I, 62\n",
    "            I, 112\n",
    "            I, 37\n",
    "            I, 92\n",
    "            I, 48\n",
    "            I, 191\n",
    "            I, 12\n",
    "            I, 6\n",
    "            I, 108\n",
    "            D\n",
    "            I, 114\n",
    "            I, 42\n",
    "            I, 43\n",
    "            R, 37\n",
    "            I, 100\n",
    "            I, 202\n",
    "            I, 166\n",
    "            R, 48\n",
    "            I, 49\n",
    "            I, 75\n",
    "            R, 112\n",
    "            D\n",
    "            E\n",
    "            I, 5\n",
    "            I, 17\n",
    "            I, 31\n",
    "            I, 56\n",
    "            I, 91\n",
    "            I, 164\n",
    "            I, 171\n",
    "            I, 290\n",
    "            I, 301\n",
    "            I, 307\n",
    "            I, 321\n",
    "            I, 333\n",
    "            F, 307\n",
    "            F, 322\n",
    "            F, 12\n",
    "            R, 301\n",
    "            D\n",
    "            E\n",
    "            I, 925\n",
    "            I, 814\n",
    "            I, 11\n",
    "            I, 775\n",
    "            I, 96\n",
    "            I, 999\n",
    "            I, 4\n",
    "            I, 212\n",
    "            I, 800\n",
    "            I, 930\n",
    "            I, 82\n",
    "            I, 90\n",
    "            I, 88\n",
    "            I, 950\n",
    "            F, 90\n",
    "            F, 89\n",
    "            D\n",
    "            I, 780\n",
    "            I, 325\n",
    "            I, 290\n",
    "            I, 777\n",
    "            R, 775\n",
    "            R, 96\n",
    "            R, 930\n",
    "            D)"
   ]
  },
  {
   "cell_type": "code",
   "execution_count": 2,
   "metadata": {},
   "outputs": [],
   "source": [
    "BST = BinarySearchTree()\n",
    "for n in A5trans:\n",
    "    n = split(',')\n",
    "    if n[0] == 'I': # INSERT\n",
    "        # Insert a node into the BST or establish the BST if empty.\n",
    "        # Return True if inserted, otherwise return False (if node value is already in the tree).\n",
    "        BST.insert(n[1])\n",
    "        # if inserted, return True\n",
    "        # if not inserted, return False\n",
    "    elif n[0] == 'F': # FIND\n",
    "        # Find a node with a given value in the tree.\n",
    "        # Return the value by displaying it, otherwise throw the NotInBST exception.\n",
    "        BST.subtree_search(n[1])\n",
    "        # if value found, return value\n",
    "        # if value not found, throw exception\n",
    "    elif n[0] == 'R': # REMOVE\n",
    "        # If found, remove the value from the BST.\n",
    "        # Return the value that was found and removed, otherwise throw the NotInBST exception\n",
    "        BST.delete(n[1])\n",
    "    elif n[0] == 'D': # DISPLAY *\n",
    "        # Display/Print the entire tree in a given format and the number of nodes and height at the time of display.\n",
    "        print('Number of nodes: ', len(BST))\n",
    "        print('Height of tree: ', BST.depth(self.root))\n",
    "        pass\n",
    "    elif n[0] == 'E': # ERASE\n",
    "        # Erase the current tree by instantiating a new tree object for the next transactions.\n",
    "        self.__init__\n",
    "    else:\n",
    "        pass"
   ]
  },
  {
   "cell_type": "code",
   "execution_count": 3,
   "metadata": {},
   "outputs": [
    {
     "data": {
      "text/plain": [
       "<__main__.BinarySearchTree.Node at 0x10cffd9a0>"
      ]
     },
     "execution_count": 3,
     "metadata": {},
     "output_type": "execute_result"
    }
   ],
   "source": [
    "BST.add_root(100)"
   ]
  },
  {
   "cell_type": "code",
   "execution_count": 4,
   "metadata": {},
   "outputs": [
    {
     "name": "stdout",
     "output_type": "stream",
     "text": [
      "Size of BST =  9\n",
      "25\n",
      "50\n",
      "65\n",
      "75\n",
      "100\n",
      "125\n",
      "150\n",
      "175\n",
      "200\n"
     ]
    }
   ],
   "source": [
    "BST.insert(25)\n",
    "BST.insert(50)\n",
    "BST.insert(75)\n",
    "BST.insert(125)\n",
    "BST.insert(150)\n",
    "BST.insert(175)\n",
    "BST.insert(65)\n",
    "BST.insert(200)\n",
    "print('Size of BST = ', len(BST))\n",
    "BST.inorder(BST.root)\n"
   ]
  },
  {
   "cell_type": "markdown",
   "metadata": {},
   "source": [
    "### The 'parenthesize' function displays a parenthesized version of a tree when given its root node\n",
    "\n",
    "Use the following code to print a parenthesized version of a BST.  "
   ]
  },
  {
   "cell_type": "code",
   "execution_count": 5,
   "metadata": {},
   "outputs": [],
   "source": [
    "def parenthesize(T, p):\n",
    "    \"\"\" Print a parenthesized representation of a subtree of T rooted at p. \"\"\"\n",
    "    if p is not None:\n",
    "        print (p.element, end = '')\n",
    "        if not T.is_leaf(p):\n",
    "            first_time = True\n",
    "            for c in (T.left(p), T.right(p)):\n",
    "                if first_time:\n",
    "                    sep = ' ('\n",
    "                else:\n",
    "                    sep = ', '\n",
    "                print (sep, end = '')\n",
    "                first_time = False\n",
    "                parenthesize(T, c)\n",
    "            print(')', end = '')\n",
    "    "
   ]
  },
  {
   "cell_type": "code",
   "execution_count": 6,
   "metadata": {},
   "outputs": [
    {
     "name": "stdout",
     "output_type": "stream",
     "text": [
      "100 (25 (, 50 (, 75 (65, ))), 125 (, 150 (, 175 (, 200))))"
     ]
    }
   ],
   "source": [
    "parenthesize(BST, BST.root)"
   ]
  },
  {
   "cell_type": "code",
   "execution_count": 7,
   "metadata": {},
   "outputs": [
    {
     "data": {
      "text/plain": [
       "25"
      ]
     },
     "execution_count": 7,
     "metadata": {},
     "output_type": "execute_result"
    }
   ],
   "source": [
    "BST.find_min(BST.root)[1]"
   ]
  },
  {
   "cell_type": "code",
   "execution_count": 8,
   "metadata": {},
   "outputs": [
    {
     "data": {
      "text/plain": [
       "125"
      ]
     },
     "execution_count": 8,
     "metadata": {},
     "output_type": "execute_result"
    }
   ],
   "source": [
    "RST = BST.root.right\n",
    "BST.find_min(RST)[1]"
   ]
  },
  {
   "cell_type": "code",
   "execution_count": 9,
   "metadata": {},
   "outputs": [
    {
     "data": {
      "text/plain": [
       "125"
      ]
     },
     "execution_count": 9,
     "metadata": {},
     "output_type": "execute_result"
    }
   ],
   "source": [
    "BST.find_min(BST.root.right)[1]"
   ]
  },
  {
   "cell_type": "code",
   "execution_count": null,
   "metadata": {},
   "outputs": [],
   "source": []
  },
  {
   "cell_type": "code",
   "execution_count": null,
   "metadata": {},
   "outputs": [],
   "source": []
  }
 ],
 "metadata": {
  "kernelspec": {
   "display_name": "Python 3",
   "language": "python",
   "name": "python3"
  },
  "language_info": {
   "codemirror_mode": {
    "name": "ipython",
    "version": 3
   },
   "file_extension": ".py",
   "mimetype": "text/x-python",
   "name": "python",
   "nbconvert_exporter": "python",
   "pygments_lexer": "ipython3",
   "version": "3.8.5"
  }
 },
 "nbformat": 4,
 "nbformat_minor": 2
}
